{
 "cells": [
  {
   "cell_type": "code",
   "execution_count": 147,
   "metadata": {},
   "outputs": [],
   "source": [
    "import pickle\n",
    "import pandas as pd\n",
    "import sqlite3\n",
    "import os\n",
    "import numpy as np"
   ]
  },
  {
   "cell_type": "code",
   "execution_count": 11,
   "metadata": {},
   "outputs": [],
   "source": [
    "PATH_pred = os.path.join(\"predictions\")\n",
    "Year = 2019\n",
    "Quarter = 1"
   ]
  },
  {
   "cell_type": "markdown",
   "metadata": {},
   "source": [
    "# Equal weight"
   ]
  },
  {
   "cell_type": "code",
   "execution_count": 70,
   "metadata": {},
   "outputs": [],
   "source": [
    "def retrieve_stock_return(co_id_list, Year, Quarter):\n",
    "    ''' Given company list, return each (absolute) stock return '''\n",
    "    dbName = 'stock.db'\n",
    "    db_path = os.path.join('..', 'Database', dbName)\n",
    "    connection = sqlite3.connect(db_path)\n",
    "    cursor = connection.cursor()\n",
    "\n",
    "    return_list = list()\n",
    "\n",
    "    for co_id in co_id_list:\n",
    "        query = f'SELECT \"Stock Return\" FROM t_final_data WHERE CO_ID=\"{co_id}\" and Year={Year} and Quarter={Quarter}'\n",
    "        return_list.append(cursor.execute(query).fetchone()[0])\n",
    "\n",
    "    connection.close()\n",
    "\n",
    "    return return_list"
   ]
  },
  {
   "cell_type": "code",
   "execution_count": 25,
   "metadata": {},
   "outputs": [],
   "source": [
    "def gen_equal_weight_return(Year, Quarter, Model):\n",
    "    '''\n",
    "        write into t_return_equal_weight @ portfolio_return.db\n",
    "    '''\n",
    "    strategy=\"equal weight\"\n",
    "\n",
    "    RETURN_TABLE = 't_return_equal_weight'\n",
    "    dbName = 'portfolio_return.db'\n",
    "    db_path = os.path.join('..', 'Database', dbName)\n",
    "    connection = sqlite3.connect(db_path)\n",
    "    cursor = connection.cursor()\n",
    "\n",
    "\n",
    "    with open(os.path.join(PATH_pred, Model, f\"{Year}-{Quarter}-company-rank.pickle\"), \"rb\") as fp:\n",
    "        co_id_rank = pickle.load(fp)\n",
    "\n",
    "    # select top 25 companies\n",
    "    co_id_list = co_id_rank[:25]\n",
    "\n",
    "    # collect (absolute) stock return from t_final_data @ stock.db\n",
    "    return_list = retrieve_stock_return(co_id_list, Year, Quarter)\n",
    "\n",
    "    # equal weight\n",
    "    stock_return = np.mean(return_list)\n",
    "\n",
    "    # overwrite existing row or insert a new row (sqlite)\n",
    "    if cursor.execute(f'SELECT * FROM {RETURN_TABLE} WHERE Model = \"{Model}\" AND Strategy = \"{strategy}\" AND Year = {Year} AND Quarter = {Quarter}').fetchone() is None:\n",
    "        data = Model, strategy, Year, Quarter, stock_return\n",
    "        query = f'INSERT INTO {RETURN_TABLE} (Model, Strategy, Year, Quarter, \"Stock Return\") VALUES (?,?,?,?,?);'\n",
    "        print('[QUERY] ' + query) \n",
    "        print('[DATA] ' + data) \n",
    "        cursor.execute(query, data)\n",
    "    else:\n",
    "        query = f'UPDATE {RETURN_TABLE} \\\n",
    "            SET \"Stock Return\" = {stock_return} \\\n",
    "            WHERE \\\n",
    "                Model = \"{Model}\" AND Strategy = \"{strategy}\" AND Year = {Year} AND Quarter = {Quarter} \\\n",
    "            '\n",
    "        print('[QUERY] ' + query) \n",
    "        cursor.execute(query)\n",
    "\n",
    "    connection.commit()\n",
    "    connection.close()"
   ]
  },
  {
   "cell_type": "code",
   "execution_count": null,
   "metadata": {},
   "outputs": [],
   "source": [
    "def gen_portfolio_return(Year, Quarter, Model, Strategy):\n",
    "    if Strategy == \"equal weight\":\n",
    "        gen_equal_weight_return(Year, Quarter, Model)\n",
    "    else:\n",
    "        raise Exception(\"[ERROR] we don't have this strategies yet...\")"
   ]
  },
  {
   "cell_type": "code",
   "execution_count": 2,
   "metadata": {},
   "outputs": [
    {
     "ename": "NameError",
     "evalue": "name 'np' is not defined",
     "output_type": "error",
     "traceback": [
      "\u001b[0;31m---------------------------------------------------------------------------\u001b[0m",
      "\u001b[0;31mNameError\u001b[0m                                 Traceback (most recent call last)",
      "\u001b[0;32m/var/folders/mh/41j2lncs7zl23__r0_gc065w0000gn/T/ipykernel_55923/3543121644.py\u001b[0m in \u001b[0;36m<module>\u001b[0;34m\u001b[0m\n\u001b[0;32m----> 1\u001b[0;31m \u001b[0mnp\u001b[0m\u001b[0;34m.\u001b[0m\u001b[0mmean\u001b[0m\u001b[0;34m(\u001b[0m\u001b[0mreturn_list\u001b[0m\u001b[0;34m)\u001b[0m\u001b[0;34m\u001b[0m\u001b[0;34m\u001b[0m\u001b[0m\n\u001b[0m",
      "\u001b[0;31mNameError\u001b[0m: name 'np' is not defined"
     ]
    }
   ],
   "source": [
    "np.mean(return_list)"
   ]
  },
  {
   "cell_type": "code",
   "execution_count": 103,
   "metadata": {},
   "outputs": [],
   "source": [
    "from datetime import date, datetime\n",
    "\n",
    "today = date.today()\n",
    "year, month, day = today.strftime(\"%Y/%m/%d\").split('/')"
   ]
  },
  {
   "cell_type": "code",
   "execution_count": 130,
   "metadata": {},
   "outputs": [],
   "source": [
    "def date_to_quarter(month, day):\n",
    "    ''' according to our definition of each season's timestamps '''\n",
    "    month = int(month)\n",
    "    day = int(day)\n",
    "\n",
    "    if month < 2 and day < 26:\n",
    "        quarter = 3\n",
    "    elif month < 5 and day < 26:\n",
    "        quarter = 4\n",
    "    elif month < 8 and day < 26:\n",
    "        quarter = 1\n",
    "    elif month < 11 and day < 26:\n",
    "        quarter = 2\n",
    "    else:\n",
    "        quarter = 3\n",
    "\n",
    "    return str(quarter)"
   ]
  },
  {
   "cell_type": "code",
   "execution_count": 145,
   "metadata": {},
   "outputs": [
    {
     "data": {
      "text/plain": [
       "'2'"
      ]
     },
     "execution_count": 145,
     "metadata": {},
     "output_type": "execute_result"
    }
   ],
   "source": [
    "date_to_quarter(9, 13)"
   ]
  },
  {
   "cell_type": "code",
   "execution_count": 135,
   "metadata": {},
   "outputs": [
    {
     "data": {
      "text/plain": [
       "'2022'"
      ]
     },
     "execution_count": 135,
     "metadata": {},
     "output_type": "execute_result"
    }
   ],
   "source": [
    "date(2022, 11,13).strftime(\"%Y\")"
   ]
  },
  {
   "cell_type": "code",
   "execution_count": null,
   "metadata": {},
   "outputs": [],
   "source": [
    "Q1_START = ('-05-20', '-05-25')\n",
    "Q1_END = ('-08-19', '-08-24')\n",
    "Q2_START = ('-08-20', '-08-25')\n",
    "Q2_END = ('-11-19', '-11-24')\n",
    "Q3_START = ('-11-20', '-11-25')\n",
    "Q3_END = ('-02-19', '-02-27')\n",
    "Q4_START = ('-02-20', '-02-27')\n",
    "Q4_END = ('-05-19', '-05-24')\n",
    "5, 20\n",
    "8, 20\n",
    "11, 20\n",
    "2, 20"
   ]
  },
  {
   "cell_type": "code",
   "execution_count": 1,
   "metadata": {},
   "outputs": [
    {
     "name": "stdout",
     "output_type": "stream",
     "text": [
      "[*********************100%***********************]  1 of 1 completed\n"
     ]
    },
    {
     "data": {
      "text/html": [
       "<div>\n",
       "<style scoped>\n",
       "    .dataframe tbody tr th:only-of-type {\n",
       "        vertical-align: middle;\n",
       "    }\n",
       "\n",
       "    .dataframe tbody tr th {\n",
       "        vertical-align: top;\n",
       "    }\n",
       "\n",
       "    .dataframe thead th {\n",
       "        text-align: right;\n",
       "    }\n",
       "</style>\n",
       "<table border=\"1\" class=\"dataframe\">\n",
       "  <thead>\n",
       "    <tr style=\"text-align: right;\">\n",
       "      <th></th>\n",
       "      <th>Open</th>\n",
       "      <th>High</th>\n",
       "      <th>Low</th>\n",
       "      <th>Close</th>\n",
       "      <th>Adj Close</th>\n",
       "      <th>Volume</th>\n",
       "    </tr>\n",
       "    <tr>\n",
       "      <th>Date</th>\n",
       "      <th></th>\n",
       "      <th></th>\n",
       "      <th></th>\n",
       "      <th></th>\n",
       "      <th></th>\n",
       "      <th></th>\n",
       "    </tr>\n",
       "  </thead>\n",
       "  <tbody>\n",
       "    <tr>\n",
       "      <th>2022-11-30</th>\n",
       "      <td>483.0</td>\n",
       "      <td>490.0</td>\n",
       "      <td>482.5</td>\n",
       "      <td>490.0</td>\n",
       "      <td>487.195648</td>\n",
       "      <td>57111603</td>\n",
       "    </tr>\n",
       "    <tr>\n",
       "      <th>2022-12-01</th>\n",
       "      <td>506.0</td>\n",
       "      <td>508.0</td>\n",
       "      <td>498.5</td>\n",
       "      <td>498.5</td>\n",
       "      <td>495.647003</td>\n",
       "      <td>41746878</td>\n",
       "    </tr>\n",
       "    <tr>\n",
       "      <th>2022-12-02</th>\n",
       "      <td>490.0</td>\n",
       "      <td>497.0</td>\n",
       "      <td>490.0</td>\n",
       "      <td>492.5</td>\n",
       "      <td>489.681335</td>\n",
       "      <td>28319679</td>\n",
       "    </tr>\n",
       "    <tr>\n",
       "      <th>2022-12-05</th>\n",
       "      <td>491.5</td>\n",
       "      <td>497.5</td>\n",
       "      <td>489.0</td>\n",
       "      <td>489.0</td>\n",
       "      <td>486.201355</td>\n",
       "      <td>28360444</td>\n",
       "    </tr>\n",
       "    <tr>\n",
       "      <th>2022-12-06</th>\n",
       "      <td>488.0</td>\n",
       "      <td>489.0</td>\n",
       "      <td>478.0</td>\n",
       "      <td>478.0</td>\n",
       "      <td>475.264313</td>\n",
       "      <td>40561068</td>\n",
       "    </tr>\n",
       "    <tr>\n",
       "      <th>2022-12-07</th>\n",
       "      <td>477.0</td>\n",
       "      <td>485.5</td>\n",
       "      <td>475.0</td>\n",
       "      <td>475.0</td>\n",
       "      <td>472.281494</td>\n",
       "      <td>36563503</td>\n",
       "    </tr>\n",
       "    <tr>\n",
       "      <th>2022-12-08</th>\n",
       "      <td>475.0</td>\n",
       "      <td>475.0</td>\n",
       "      <td>467.0</td>\n",
       "      <td>471.5</td>\n",
       "      <td>468.801514</td>\n",
       "      <td>27238567</td>\n",
       "    </tr>\n",
       "    <tr>\n",
       "      <th>2022-12-09</th>\n",
       "      <td>478.0</td>\n",
       "      <td>484.5</td>\n",
       "      <td>476.0</td>\n",
       "      <td>481.5</td>\n",
       "      <td>478.744293</td>\n",
       "      <td>25915337</td>\n",
       "    </tr>\n",
       "    <tr>\n",
       "      <th>2022-12-12</th>\n",
       "      <td>476.5</td>\n",
       "      <td>478.0</td>\n",
       "      <td>473.5</td>\n",
       "      <td>475.0</td>\n",
       "      <td>472.281494</td>\n",
       "      <td>20973334</td>\n",
       "    </tr>\n",
       "    <tr>\n",
       "      <th>2022-12-13</th>\n",
       "      <td>473.0</td>\n",
       "      <td>476.0</td>\n",
       "      <td>471.0</td>\n",
       "      <td>471.5</td>\n",
       "      <td>468.801514</td>\n",
       "      <td>33272826</td>\n",
       "    </tr>\n",
       "    <tr>\n",
       "      <th>2022-12-14</th>\n",
       "      <td>472.0</td>\n",
       "      <td>480.5</td>\n",
       "      <td>472.0</td>\n",
       "      <td>480.5</td>\n",
       "      <td>477.750000</td>\n",
       "      <td>30636639</td>\n",
       "    </tr>\n",
       "    <tr>\n",
       "      <th>2022-12-15</th>\n",
       "      <td>476.0</td>\n",
       "      <td>481.5</td>\n",
       "      <td>474.5</td>\n",
       "      <td>480.5</td>\n",
       "      <td>480.500000</td>\n",
       "      <td>24222008</td>\n",
       "    </tr>\n",
       "    <tr>\n",
       "      <th>2022-12-16</th>\n",
       "      <td>466.5</td>\n",
       "      <td>471.0</td>\n",
       "      <td>465.5</td>\n",
       "      <td>471.0</td>\n",
       "      <td>471.000000</td>\n",
       "      <td>47601400</td>\n",
       "    </tr>\n",
       "    <tr>\n",
       "      <th>2022-12-19</th>\n",
       "      <td>466.5</td>\n",
       "      <td>469.5</td>\n",
       "      <td>465.0</td>\n",
       "      <td>466.5</td>\n",
       "      <td>466.500000</td>\n",
       "      <td>21075559</td>\n",
       "    </tr>\n",
       "    <tr>\n",
       "      <th>2022-12-20</th>\n",
       "      <td>465.0</td>\n",
       "      <td>467.0</td>\n",
       "      <td>464.5</td>\n",
       "      <td>465.0</td>\n",
       "      <td>465.000000</td>\n",
       "      <td>10741892</td>\n",
       "    </tr>\n",
       "  </tbody>\n",
       "</table>\n",
       "</div>"
      ],
      "text/plain": [
       "             Open   High    Low  Close   Adj Close    Volume\n",
       "Date                                                        \n",
       "2022-11-30  483.0  490.0  482.5  490.0  487.195648  57111603\n",
       "2022-12-01  506.0  508.0  498.5  498.5  495.647003  41746878\n",
       "2022-12-02  490.0  497.0  490.0  492.5  489.681335  28319679\n",
       "2022-12-05  491.5  497.5  489.0  489.0  486.201355  28360444\n",
       "2022-12-06  488.0  489.0  478.0  478.0  475.264313  40561068\n",
       "2022-12-07  477.0  485.5  475.0  475.0  472.281494  36563503\n",
       "2022-12-08  475.0  475.0  467.0  471.5  468.801514  27238567\n",
       "2022-12-09  478.0  484.5  476.0  481.5  478.744293  25915337\n",
       "2022-12-12  476.5  478.0  473.5  475.0  472.281494  20973334\n",
       "2022-12-13  473.0  476.0  471.0  471.5  468.801514  33272826\n",
       "2022-12-14  472.0  480.5  472.0  480.5  477.750000  30636639\n",
       "2022-12-15  476.0  481.5  474.5  480.5  480.500000  24222008\n",
       "2022-12-16  466.5  471.0  465.5  471.0  471.000000  47601400\n",
       "2022-12-19  466.5  469.5  465.0  466.5  466.500000  21075559\n",
       "2022-12-20  465.0  467.0  464.5  465.0  465.000000  10741892"
      ]
     },
     "execution_count": 1,
     "metadata": {},
     "output_type": "execute_result"
    }
   ],
   "source": [
    "import yfinance as yf\n",
    "df = yf.download(\"2330.TW\", start=\"2022-11-30\", end=\"2026-12-31\")\n",
    "df"
   ]
  }
 ],
 "metadata": {
  "kernelspec": {
   "display_name": "Python 3.9.13 ('base')",
   "language": "python",
   "name": "python3"
  },
  "language_info": {
   "codemirror_mode": {
    "name": "ipython",
    "version": 3
   },
   "file_extension": ".py",
   "mimetype": "text/x-python",
   "name": "python",
   "nbconvert_exporter": "python",
   "pygments_lexer": "ipython3",
   "version": "3.9.13"
  },
  "orig_nbformat": 4,
  "vscode": {
   "interpreter": {
    "hash": "c34019f22b2cb8c0f12492c2d56cc88834c9a1831a9952841115fc570b129000"
   }
  }
 },
 "nbformat": 4,
 "nbformat_minor": 2
}
